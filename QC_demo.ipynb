{
 "cells": [
  {
   "cell_type": "markdown",
   "metadata": {},
   "source": [
    "# Quality Control Preprocessing for High-Content Screening\n",
    "The identification of systematic errors and random artifacts in microscopy images from high-content screening (HCS)\n",
    "experiments is critical for the acquisition of robust datasets. Common image-based aberrations may include out-of-focus\n",
    "images, debris, and autofluorescing samples which can cause artifacts such as excessive focus blur and image saturation.\n",
    "Manual inspection of images within a HCS experiment is simply not feasible but poor quality images must be appropriately\n",
    "identified and addressed as not to degrade otherwise high-quality data.\n",
    "\n",
    "This quality control (QC) protocol is designed to calculate image-based measurements of QC metrics and apply a trained\n",
    "machine-learning model to identify, with high-confidence, images which may fail quality control assessment.\n",
    "\n",
    "The example training dataset provided is generated using a QC pipeline built in CellProfiler, using 177 diverse images\n",
    "collected over a 2-year period including poor- and good-quality images. The images are raw grayscale TIF images of patient and\n",
    "patient-derived leukaemic cells, in coculture with mesenchymal stromal cells, assayed across a wide range of experimental\n",
    "conditions. Image metrics are then used to train an machine learning Voting Classifier model (an ensemble of classifiers).\n",
    "\n",
    "To apply this protocol to other datasets, it is important to generate unique training data as the model here would be\n",
    "appropriate only to data acquired under the exact same experimental conditions.\n",
    "\n"
   ]
  },
  {
   "cell_type": "markdown",
   "metadata": {
    "pycharm": {
     "name": "#%% md\n"
    }
   },
   "source": [
    "### Generate training set data\n",
    "First, generate the training data using the `QualityControl.cppipe` CellProfiler pipeline. Remove all the columns which\n",
    "are not required for training the model including those related to *ExcecutionTime* and *FileName* for example.\n",
    "\n",
    "Add an additional column named *Pass* which contains a boolean value for whether, upon manual inspection of the training\n",
    "image, the image is: adequate quality (1); or poor quality (0) and should fail QC checks in the dataset."
   ]
  },
  {
   "cell_type": "markdown",
   "metadata": {
    "pycharm": {
     "name": "#%% md\n"
    }
   },
   "source": [
    "### Import the dependencies\n",
    "Import all dependencies used throughout."
   ]
  },
  {
   "cell_type": "code",
   "execution_count": 8,
   "metadata": {
    "pycharm": {
     "name": "#%%\n"
    }
   },
   "outputs": [],
   "source": [
    "%matplotlib inline\n",
    "import pandas as pd\n",
    "import numpy as np\n",
    "from sklearn.model_selection import train_test_split\n",
    "from sklearn.ensemble import RandomForestClassifier, AdaBoostClassifier, GradientBoostingClassifier, VotingClassifier\n",
    "from sklearn.neighbors import KNeighborsClassifier as KNN\n",
    "from sklearn.tree import DecisionTreeClassifier\n",
    "from sklearn.metrics import accuracy_score, confusion_matrix, classification_report\n",
    "import matplotlib.pyplot as plt\n",
    "import seaborn as sns"
   ]
  },
  {
   "cell_type": "markdown",
   "metadata": {
    "pycharm": {
     "name": "#%% md\n"
    }
   },
   "source": [
    "### Import the training dataset to build the model\n",
    "Import the training data CSV file. We pass the label (target to predict) to an array, remove it from the features (metrics\n",
    "we use to predict the label), and convert the features to an array for input into the training models.\n",
    "\n",
    "The <a href='https://scikit-learn.org/stable/modules/generated/sklearn.model_selection.train_test_split.html' target='_blank'>\n",
    "train-test-split</a> module of Scikit-learn is used to split the data into training and test data for the purposes\n",
    "of this demonstration. In practice, the whole training dataset would be used to generate the predictive model for use on\n",
    "unseen datasets."
   ]
  },
  {
   "cell_type": "code",
   "execution_count": 9,
   "metadata": {
    "pycharm": {
     "name": "#%%\n"
    }
   },
   "outputs": [],
   "source": [
    "# #############################################################################\n",
    "# Training data\n",
    "\n",
    "# Load training data\n",
    "features = pd.read_csv('QC_training.csv')\n",
    "\n",
    "# Labels are the values we are predicting\n",
    "labels = np.array(features['Pass'])\n",
    "\n",
    "# Remove the labels from the feature set\n",
    "features = features.drop('Pass', axis=1)\n",
    "\n",
    "feature_list = list(features.columns)\n",
    "features = np.array(features)\n",
    "\n",
    "# Use train-test-split on training data\n",
    "X_train, X_test, y_train, y_test = train_test_split(features, labels, test_size=0.2, random_state=10)\n"
   ]
  },
  {
   "cell_type": "markdown",
   "metadata": {
    "pycharm": {
     "name": "#%% md\n"
    }
   },
   "source": [
    "### Train the models\n",
    "Fit the training data to an ensemble of classifiers within a VotingClassifier. We can calculate accuracy scores for each\n",
    "of the individual models and the Voting Classifier; though accuracy alone is a poor metric for assessing performance.\n",
    "\n",
    "The hyper-parameters of each model were tuned using the <a href='https://scikit-learn.org/stable/modules/generated/sklearn.model_selection.GridSearchCV.html' target='_blank'>\n",
    "GridSearchCV</a> module of Scikit-learn, and optimal parameters were chosen. This stage is not shown here but it is recommended to do this on\n",
    "your own dataset. Random state is set for reproducibility in this demonstration but would not be used in practice."
   ]
  },
  {
   "cell_type": "code",
   "execution_count": 10,
   "metadata": {
    "pycharm": {
     "name": "#%%\n"
    }
   },
   "outputs": [
    {
     "name": "stdout",
     "output_type": "stream",
     "text": [
      "Random Forest : 0.917\n",
      "K Nearest Neighbours : 0.861\n",
      "Classification Tree : 0.889\n",
      "AdaBoost Classifier : 0.917\n",
      "Gradient Boosting Classifier : 0.889\n",
      "Voting Classifier: 0.917\n"
     ]
    }
   ],
   "source": [
    "# #############################################################################\n",
    "# Training models\n",
    "\n",
    "# Ensemble classification models. Hyper-parameters of each model were tuned by cross-validation using GridSearchCV.\n",
    "SEED = 1\n",
    "rf = RandomForestClassifier(n_estimators=350, min_samples_leaf=2, max_features='log2', random_state=SEED)\n",
    "knn = KNN(n_neighbors=5)\n",
    "dt = DecisionTreeClassifier(min_samples_leaf=0.2, max_depth=4, splitter='best', random_state=SEED)\n",
    "ada = AdaBoostClassifier()\n",
    "gbb = GradientBoostingClassifier()\n",
    "\n",
    "classifiers = [('Random Forest', rf),\n",
    "               ('K Nearest Neighbours', knn),\n",
    "               ('Classification Tree', dt),\n",
    "               ('AdaBoost Classifier', ada),\n",
    "               ('Gradient Boosting Classifier', gbb)]\n",
    "\n",
    "# Fit each model to the training set, predict on the test set, and calculate accuracy\n",
    "for clf_name, clf in classifiers:\n",
    "    # Fit clf to the training set\n",
    "    clf.fit(X_train, y_train)\n",
    "\n",
    "    # Predict y_pred\n",
    "    y_pred = clf.predict(X_test)\n",
    "\n",
    "    # Calculate accuracy\n",
    "    accuracy = accuracy_score(y_pred, y_test)\n",
    "\n",
    "    # Evaluate clf's accuracy on the test set\n",
    "    print('{:s} : {:.3f}'.format(clf_name, accuracy))\n",
    "\n",
    "\n",
    "# Instantiate a VotingClassifier (vc)\n",
    "vc = VotingClassifier(estimators=classifiers)\n",
    "\n",
    "# Fit vc to the training set\n",
    "vc.fit(X_train, y_train)\n",
    "\n",
    "# Evaluate the test set predictions\n",
    "y_pred = vc.predict(X_test)\n",
    "\n",
    "# Calculate accuracy score\n",
    "accuracy = accuracy_score(y_test, y_pred)\n",
    "print('Voting Classifier: {:.3f}'.format(accuracy))"
   ]
  },
  {
   "cell_type": "markdown",
   "metadata": {
    "pycharm": {
     "name": "#%% md\n"
    }
   },
   "source": [
    "### Assess performance of the trained model\n",
    "We can use the model trained on the training set to predict if an unseen image within the test set passes or fails QC.\n",
    "As we, but not the model which has only seen the training-split of the data, know the real prediction we can assess the\n",
    "performance of the model."
   ]
  },
  {
   "cell_type": "code",
   "execution_count": 11,
   "metadata": {
    "pycharm": {
     "name": "#%%\n"
    }
   },
   "outputs": [
    {
     "data": {
      "image/png": "[encoded data removed]",
      "text/plain": [
       "<Figure size 432x288 with 2 Axes>"
      ]
     },
     "metadata": {
      "needs_background": "light"
     },
     "output_type": "display_data"
    }
   ],
   "source": [
    "# Calculate and plot confusion matrix\n",
    "cf_array = confusion_matrix(y_test, y_pred, normalize='true')\n",
    "cf_group_names = ['True Neg', 'False Pos', 'False Neg', 'True Pos']\n",
    "\n",
    "cf_labels = [f\"{v1}\\n{v2}\" for v1, v2 in\n",
    "             zip(cf_group_names, np.around(cf_array.flatten(), 2))]\n",
    "cf_labels = np.asarray(cf_labels).reshape(2, 2)\n",
    "\n",
    "fig, ax = plt.subplots()\n",
    "cf_matrix = sns.heatmap(cf_array, annot=cf_labels, fmt='', vmin=0, vmax=1, cmap='Blues', cbar_kws={'label': 'Prediction Rate'})\n",
    "cf_matrix.set_xticklabels(['Fail', 'Pass'])\n",
    "cf_matrix.set_yticklabels(['Fail', 'Pass'], fontdict={'verticalalignment': 'center'})\n",
    "cf_matrix.set_xlabel('Predicted class')\n",
    "cf_matrix.set_ylabel('True class')\n",
    "cf_matrix.set_title('Confusion matrix for image quality pre-processing', weight='bold').set_fontsize('12')\n",
    "plt.show()"
   ]
  },
  {
   "cell_type": "markdown",
   "metadata": {
    "pycharm": {
     "name": "#%% md\n"
    }
   },
   "source": [
    "We can also calculate useful statistics to assess the model's performance including sensitivity, specificity, and F1 score."
   ]
  },
  {
   "cell_type": "code",
   "execution_count": 12,
   "metadata": {
    "pycharm": {
     "name": "#%%\n"
    }
   },
   "outputs": [
    {
     "name": "stdout",
     "output_type": "stream",
     "text": [
      "              precision    recall  f1-score   support\n",
      "\n",
      "        Pass       0.91      0.95      0.93        21\n",
      "        Fail       0.93      0.87      0.90        15\n",
      "\n",
      "    accuracy                           0.92        36\n",
      "   macro avg       0.92      0.91      0.91        36\n",
      "weighted avg       0.92      0.92      0.92        36\n",
      "\n"
     ]
    }
   ],
   "source": [
    "target_names = ['Pass', 'Fail']\n",
    "print(classification_report(y_test, y_pred, target_names=target_names))"
   ]
  },
  {
   "cell_type": "markdown",
   "metadata": {
    "pycharm": {
     "name": "#%% md\n"
    }
   },
   "source": [
    "### Predict on a raw dataset\n",
    "We can now use the trained model to predict whether each image in an unseen dataset passes or fails QC with high confidence.\n",
    "As with generating the training dataset, the full image dataset should be first pre-processed with the `QualityControl.cppipe`\n",
    "CellProfiler pipeline. The raw, unedited CSV file from this can then be implemented directly in to this model.\n",
    "\n",
    "Image numbers and file names are retained as to correctly identify the images within the full dataset which may need to\n",
    "be filtered out of downstream analyses. Only the images which fail QC checks are exported."
   ]
  },
  {
   "cell_type": "code",
   "execution_count": 13,
   "metadata": {
    "pycharm": {
     "name": "#%%\n"
    }
   },
   "outputs": [
    {
     "name": "stdout",
     "output_type": "stream",
     "text": [
      "                                                    FileName    QC\n",
      "ImageNumber                                                       \n",
      "12           LK377-RG-AZD-stitched-Scene-023-C17-C17_ORG.tif  Fail\n"
     ]
    }
   ],
   "source": [
    "# #############################################################################\n",
    "# Predict on raw dataset\n",
    "\n",
    "# Load raw data\n",
    "raw_df = pd.read_csv('raw_data/raw_data_example.csv')\n",
    "\n",
    "# Extract image metadata\n",
    "image_no = np.array(raw_df['ImageNumber'])\n",
    "image_name = np.array(raw_df['FileName_Image_QC'])\n",
    "\n",
    "# Extract data 'features' for prediction to array\n",
    "raw_df = raw_df.loc[:, 'ImageQuality_Correlation_Image_QC_16':'ImageQuality_TotalIntensity_Image_QC']\n",
    "raw_features = np.array(raw_df)\n",
    "\n",
    "# Predict on dataset\n",
    "raw_pred = vc.predict(raw_features)\n",
    "\n",
    "# Construct df to export predictions\n",
    "raw_pred_df = pd.DataFrame()\n",
    "raw_pred_df['ImageNumber'] = image_no\n",
    "raw_pred_df['FileName'] = image_name\n",
    "raw_pred_df['QC'] = raw_pred\n",
    "raw_pred_df['QC'] = raw_pred_df['QC'].replace({1: 'Pass', 0: 'Fail'})\n",
    "raw_pred_df.set_index('ImageNumber', inplace=True)\n",
    "\n",
    "# Export failed images\n",
    "failed_df = raw_pred_df[raw_pred_df['QC'] == 'Fail']\n",
    "if failed_df.shape[0] > 0:\n",
    "    failed_df.to_csv('image_QC_failed.csv')\n",
    "    print(failed_df.head())\n",
    "else:\n",
    "    print('There are no images that have not passed QC checks in this dataset.')"
   ]
  },
  {
   "cell_type": "code",
   "execution_count": null,
   "metadata": {},
   "outputs": [],
   "source": []
  }
 ],
 "metadata": {
  "kernelspec": {
   "display_name": "Python 3",
   "language": "python",
   "name": "python3"
  },
  "language_info": {
   "codemirror_mode": {
    "name": "ipython",
    "version": 3
   },
   "file_extension": ".py",
   "mimetype": "text/x-python",
   "name": "python",
   "nbconvert_exporter": "python",
   "pygments_lexer": "ipython3",
   "version": "3.8.3"
  }
 },
 "nbformat": 4,
 "nbformat_minor": 1
}